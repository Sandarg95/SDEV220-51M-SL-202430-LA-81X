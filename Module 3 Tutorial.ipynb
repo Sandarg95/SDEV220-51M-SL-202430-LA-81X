{
 "cells": [
  {
   "cell_type": "markdown",
   "id": "9cb3b18d-e706-445c-ae46-98490ea22c6a",
   "metadata": {},
   "source": [
    "# Sort an Array of 0s, 1s, and 2s"
   ]
  },
  {
   "cell_type": "code",
   "execution_count": 1,
   "id": "4588bcb6-1e1e-4c0c-9ee2-768fba22590e",
   "metadata": {},
   "outputs": [
    {
     "name": "stdin",
     "output_type": "stream",
     "text": [
      " 1\n",
      " 0 2 1 0 0 1 2 1 0 2 1 0 1\n"
     ]
    },
    {
     "name": "stdout",
     "output_type": "stream",
     "text": [
      "0 0 0 0 0 1 1 1 1 1 2 2 2\n",
      "~\n"
     ]
    }
   ],
   "source": [
    "\n",
    "class Solution:\n",
    "    # Function to sort an array of 0s, 1s, and 2s\n",
    "    def sort012(self, arr):\n",
    "        low, mid, high = 0, 0, len(arr) - 1\n",
    "        \n",
    "        # Traverse the array from start to end\n",
    "        while mid <= high:\n",
    "            if arr[mid] == 0:\n",
    "                # Swap the current element with the low element\n",
    "                arr[low], arr[mid] = arr[mid], arr[low]\n",
    "                low += 1\n",
    "                mid += 1\n",
    "            elif arr[mid] == 1:\n",
    "                # Move to the next element\n",
    "                mid += 1\n",
    "            else:\n",
    "                # Swap the current element with the high element\n",
    "                arr[high], arr[mid] = arr[mid], arr[high]\n",
    "                high -= 1\n",
    "        \n",
    "       \n",
    "                \n",
    "        \n",
    "\n",
    "#{ \n",
    " # Driver Code Starts.\n",
    "def main():\n",
    "    t = int(input().strip())  # Read the number of test cases\n",
    "    ob = Solution()\n",
    "\n",
    "    while t > 0:\n",
    "        t -= 1\n",
    "        arr = list(map(int,\n",
    "                       input().strip().split())\n",
    "                   )  # Read the array as space-separated integers\n",
    "        ob.sort012(arr)  # Sort the array\n",
    "\n",
    "        print(' '.join(map(str, arr)))  # Print the sorted array\n",
    "        print(\"~\")\n",
    "        \n",
    "if __name__ == \"__main__\":\n",
    "    main()\n",
    "\n",
    "# } Driver Code Ends"
   ]
  },
  {
   "cell_type": "markdown",
   "id": "3675b88e-85b7-4fd0-837b-1f8ac2e324f0",
   "metadata": {},
   "source": [
    "# Binary Search"
   ]
  },
  {
   "cell_type": "code",
   "execution_count": 3,
   "id": "2eafb4dc-873e-4261-977a-f5adca3059aa",
   "metadata": {},
   "outputs": [
    {
     "name": "stdin",
     "output_type": "stream",
     "text": [
      " 1\n",
      " 6\n",
      " 0 0 1 1 2 3 3 4 4 5 6 6 7 7 8 9 9\n"
     ]
    },
    {
     "name": "stdout",
     "output_type": "stream",
     "text": [
      "10\n",
      "~\n"
     ]
    }
   ],
   "source": [
    "#User function template for Python\n",
    "\n",
    "class Solution:\n",
    "    def binarysearch(self, arr, k):\n",
    "        low = 0\n",
    "        high = len(arr) - 1\n",
    "        result = -1  # Stocke la première occurrence trouvée\n",
    "        \n",
    "        while low <= high:\n",
    "            mid = low + (high - low) // 2\n",
    "            \n",
    "            if arr[mid] == k:\n",
    "                result = mid  \n",
    "                high = mid - 1  \n",
    "            \n",
    "            elif arr[mid] > k:\n",
    "                high = mid - 1  \n",
    "            else:\n",
    "                low = mid + 1  \n",
    "        \n",
    "        return result  \n",
    "\n",
    "\n",
    "\n",
    "\n",
    "#{ \n",
    " # Driver Code Starts\n",
    "#Initial template for Python\n",
    "\n",
    "if __name__ == \"__main__\":\n",
    "    t = int(input())\n",
    "    for _ in range(t):\n",
    "        k = int(input())\n",
    "        arr = list(map(int, input().split()))\n",
    "        ob = Solution()\n",
    "        res = ob.binarysearch(arr, k)\n",
    "        print(res)\n",
    "        print(\"~\")\n",
    "\n",
    "# } Driver Code Ends"
   ]
  },
  {
   "cell_type": "code",
   "execution_count": null,
   "id": "3f4c94fd-4bf9-4f2c-bfe6-d0b8b765ea8e",
   "metadata": {},
   "outputs": [],
   "source": []
  }
 ],
 "metadata": {
  "kernelspec": {
   "display_name": "Python 3 (ipykernel)",
   "language": "python",
   "name": "python3"
  },
  "language_info": {
   "codemirror_mode": {
    "name": "ipython",
    "version": 3
   },
   "file_extension": ".py",
   "mimetype": "text/x-python",
   "name": "python",
   "nbconvert_exporter": "python",
   "pygments_lexer": "ipython3",
   "version": "3.12.4"
  }
 },
 "nbformat": 4,
 "nbformat_minor": 5
}
