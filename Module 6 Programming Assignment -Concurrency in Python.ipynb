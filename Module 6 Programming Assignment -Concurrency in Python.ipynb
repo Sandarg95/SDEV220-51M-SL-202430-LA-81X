{
 "cells": [
  {
   "cell_type": "markdown",
   "id": "e847b89e-5c75-4980-91ee-d7f110c3fff1",
   "metadata": {},
   "source": [
    "# Module 6 Programming Assignment -Concurrency in Python"
   ]
  },
  {
   "cell_type": "markdown",
   "id": "39007ea6-b412-4f34-8141-a4f9488539a9",
   "metadata": {},
   "source": [
    "*By Daniel Santana*"
   ]
  },
  {
   "cell_type": "code",
   "execution_count": 23,
   "id": "1e1d6ca8-bb9c-4fbd-a718-9c247341b2c0",
   "metadata": {},
   "outputs": [
    {
     "name": "stdout",
     "output_type": "stream",
     "text": [
      "2025-03-05\n",
      "Parsed date: 2025-03-05\n"
     ]
    }
   ],
   "source": [
    "from datetime import date, datetime\n",
    "import multiprocessing\n",
    "import time\n",
    "import random\n",
    "\n",
    "\n",
    "#write\n",
    "f=open(\"today.txt\", \"w\")\n",
    "x = date.today().isoformat()\n",
    "f.write(x)  \n",
    "f.close() \n",
    "\n",
    "#read\n",
    "f=open(\"today.txt\", \"r\")\n",
    "today_string=f.read().strip()\n",
    "f.close()\n",
    "print(today_string)\n",
    "\n",
    "#parse\n",
    "parsed_date = datetime.strptime(today_string, \"%Y-%m-%d\").date()\n",
    "print(\"Parsed date:\", parsed_date)\n"
   ]
  },
  {
   "cell_type": "code",
   "execution_count": 28,
   "id": "0a5e2e37-bf24-4a7f-88ca-2e4760df6a4e",
   "metadata": {},
   "outputs": [
    {
     "name": "stdout",
     "output_type": "stream",
     "text": [
      "END\n"
     ]
    }
   ],
   "source": [
    "from datetime import date, datetime\n",
    "import multiprocessing\n",
    "import time\n",
    "import random\n",
    "\n",
    "#multi-processing\n",
    "def print_time(i):\n",
    "    wait_time = random.uniform(0, 1)  \n",
    "    time.sleep(wait_time)\n",
    "    print(f\"Multi-processing {i+1} Time: {datetime.now().strftime('%H:%M:%S.%f')}\")\n",
    "\n",
    "if __name__ == \"__main__\":\n",
    "    processes = []\n",
    "\n",
    "    # Create 3 processes\n",
    "    for i in range(3):\n",
    "        process = multiprocessing.Process(target=print_time, args=(i,))\n",
    "        processes.append(process)\n",
    "        process.start()\n",
    "\n",
    "    # Wait for all processes to finish\n",
    "    for process in processes:\n",
    "        process.join()\n",
    "    print(\"END\")\n"
   ]
  },
  {
   "cell_type": "code",
   "execution_count": null,
   "id": "0f4691e5-bfec-408b-ad0d-cca9204e2f6a",
   "metadata": {},
   "outputs": [],
   "source": []
  }
 ],
 "metadata": {
  "kernelspec": {
   "display_name": "Python 3 (ipykernel)",
   "language": "python",
   "name": "python3"
  },
  "language_info": {
   "codemirror_mode": {
    "name": "ipython",
    "version": 3
   },
   "file_extension": ".py",
   "mimetype": "text/x-python",
   "name": "python",
   "nbconvert_exporter": "python",
   "pygments_lexer": "ipython3",
   "version": "3.12.4"
  }
 },
 "nbformat": 4,
 "nbformat_minor": 5
}
