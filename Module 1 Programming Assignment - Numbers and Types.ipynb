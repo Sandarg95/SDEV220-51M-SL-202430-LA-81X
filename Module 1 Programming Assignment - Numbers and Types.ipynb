{
 "cells": [
  {
   "cell_type": "markdown",
   "id": "2992677a-7673-4148-9d8a-4b6f00311ee3",
   "metadata": {},
   "source": [
    "How many seconds are in an hour? Use the interactive interpreter as a calculator and multiply the number of seconds in a minute (60) by the number of minutes in an hour (also 60)."
   ]
  },
  {
   "cell_type": "code",
   "execution_count": 2,
   "id": "811a2095-266f-4bf0-abee-2e1c2db81708",
   "metadata": {},
   "outputs": [
    {
     "name": "stdout",
     "output_type": "stream",
     "text": [
      "3600\n"
     ]
    }
   ],
   "source": [
    "secondPerMinute=60\n",
    "minutePerHour=60\n",
    "secondPerHour=secondPerMinute*minutePerHour\n",
    "print(secondPerHour)"
   ]
  },
  {
   "cell_type": "markdown",
   "id": "5c837d70-5847-4ada-99ce-a97c112f561a",
   "metadata": {},
   "source": [
    "Assign the result from the previous task (seconds in an hour) to a variable called seconds_per_hour."
   ]
  },
  {
   "cell_type": "code",
   "execution_count": 3,
   "id": "90427911-1550-402d-bb20-e0da53058906",
   "metadata": {},
   "outputs": [
    {
     "name": "stdout",
     "output_type": "stream",
     "text": [
      "3600\n"
     ]
    }
   ],
   "source": [
    "seconds_per_hour=secondPerHour\n",
    "print(seconds_per_hour)"
   ]
  },
  {
   "cell_type": "markdown",
   "id": "d9a06edf-3d73-4155-9c94-612f21919109",
   "metadata": {},
   "source": [
    "How many seconds are in a day? Use your seconds_per_hour variable."
   ]
  },
  {
   "cell_type": "code",
   "execution_count": 5,
   "id": "c1b63d40-0f92-48cf-a4a5-1813d4379b63",
   "metadata": {},
   "outputs": [
    {
     "name": "stdout",
     "output_type": "stream",
     "text": [
      "86400\n"
     ]
    }
   ],
   "source": [
    "print(seconds_per_hour*24)"
   ]
  },
  {
   "cell_type": "markdown",
   "id": "71b5f62c-f393-4db7-a718-a4c28ce30c3e",
   "metadata": {},
   "source": [
    "Calculate seconds per day again, but this time save the result in a variable called seconds_per_day."
   ]
  },
  {
   "cell_type": "code",
   "execution_count": 6,
   "id": "f41b0d33-8327-4fb7-88bf-1694fe74a3b8",
   "metadata": {},
   "outputs": [
    {
     "name": "stdout",
     "output_type": "stream",
     "text": [
      "86400\n"
     ]
    }
   ],
   "source": [
    "seconds_per_day=seconds_per_hour*24\n",
    "print(seconds_per_day)"
   ]
  },
  {
   "cell_type": "markdown",
   "id": "44ce2ed0-7186-426f-baa6-32d4d78ab89d",
   "metadata": {},
   "source": [
    "Divide seconds_per_day by seconds_per_hour. Use floating-point (/) division."
   ]
  },
  {
   "cell_type": "code",
   "execution_count": 7,
   "id": "5275dcbe-3918-4338-918b-934e59af12de",
   "metadata": {},
   "outputs": [
    {
     "name": "stdout",
     "output_type": "stream",
     "text": [
      "24.0\n"
     ]
    }
   ],
   "source": [
    "hour=seconds_per_day/seconds_per_hour\n",
    "print(hour)"
   ]
  },
  {
   "cell_type": "markdown",
   "id": "93ca6e34-679d-4e34-8a15-eea4b8659ac7",
   "metadata": {},
   "source": [
    "Divide seconds_per_day by seconds_per_hour, using integer (//) division."
   ]
  },
  {
   "cell_type": "code",
   "execution_count": 9,
   "id": "72de16e9-d7b9-4ffc-8a2a-78566c67584e",
   "metadata": {},
   "outputs": [
    {
     "name": "stdout",
     "output_type": "stream",
     "text": [
      "24\n"
     ]
    }
   ],
   "source": [
    "hourInteger= seconds_per_day//seconds_per_hour\n",
    "print(hourInteger)"
   ]
  },
  {
   "cell_type": "markdown",
   "id": "51d07618-f621-42de-ad35-c05cc347d714",
   "metadata": {},
   "source": [
    "The floating-point result of dividing seconds per day by seconds per hour will be 24.0, and the integer division result will be 24. The difference is just the decimal point."
   ]
  }
 ],
 "metadata": {
  "kernelspec": {
   "display_name": "Python 3 (ipykernel)",
   "language": "python",
   "name": "python3"
  },
  "language_info": {
   "codemirror_mode": {
    "name": "ipython",
    "version": 3
   },
   "file_extension": ".py",
   "mimetype": "text/x-python",
   "name": "python",
   "nbconvert_exporter": "python",
   "pygments_lexer": "ipython3",
   "version": "3.12.4"
  }
 },
 "nbformat": 4,
 "nbformat_minor": 5
}
