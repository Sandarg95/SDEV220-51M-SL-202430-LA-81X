{
 "cells": [
  {
   "cell_type": "markdown",
   "id": "8b4dbbc2-6b94-4357-8b4d-90db1b3a013f",
   "metadata": {},
   "source": [
    "## Module 3 Programming Assignment - Lists and Functions"
   ]
  },
  {
   "cell_type": "markdown",
   "id": "e2c8f96c-d166-46be-b7b6-55b497ea1261",
   "metadata": {},
   "source": [
    "#### By Daniel Santana"
   ]
  },
  {
   "cell_type": "code",
   "execution_count": 3,
   "id": "0a4f2683-ca0c-4e6c-9c31-608d4d1956f8",
   "metadata": {},
   "outputs": [
    {
     "name": "stdout",
     "output_type": "stream",
     "text": [
      "['mozzarella', 'cinderella', 'salmonella']\n",
      "['mozzarella', 'Cinderella', 'salmonella']\n",
      "['MOZZARELLA', 'Cinderella', 'salmonella']\n",
      "['MOZZARELLA', 'Cinderella']\n",
      "['Harry', 'Ron', 'Hermione']\n",
      "5\n"
     ]
    }
   ],
   "source": [
    "#7.4 - Create a list with specific elements\n",
    "things = [\"mozzarella\", \"cinderella\", \"salmonella\"]\n",
    "print(things)\n",
    "\n",
    "#7.5 - Capitalize the person's name\n",
    "things[1] = things[1].capitalize()\n",
    "print(things)  \n",
    "\n",
    "#7.6 - Make the cheesy element of things all uppercase and then print the list.\n",
    "things[0] = things[0].upper()\n",
    "print(things)\n",
    "\n",
    "#7.7 - Delete the disease element from thing\n",
    "things.remove(\"salmonella\")\n",
    "print(things) \n",
    "\n",
    "\n",
    "#9.1 \n",
    "def good():\n",
    "    return ['Harry', 'Ron', 'Hermione']\n",
    "\n",
    "print(good())\n",
    "\n",
    "#9.2 - Define a generator function called get_odds() \n",
    "def get_odds():\n",
    "    for num in range(10):\n",
    "        if num % 2 != 0:\n",
    "            yield num\n",
    "\n",
    "# Loop to find and print the third value returned.\n",
    "count = 0\n",
    "for odd in get_odds():\n",
    "    count += 1\n",
    "    if count == 3:\n",
    "        print(odd) \n",
    "        break\n"
   ]
  },
  {
   "cell_type": "code",
   "execution_count": null,
   "id": "afed575b-b247-4035-8ad4-ae10e3a994a9",
   "metadata": {},
   "outputs": [],
   "source": []
  }
 ],
 "metadata": {
  "kernelspec": {
   "display_name": "Python 3 (ipykernel)",
   "language": "python",
   "name": "python3"
  },
  "language_info": {
   "codemirror_mode": {
    "name": "ipython",
    "version": 3
   },
   "file_extension": ".py",
   "mimetype": "text/x-python",
   "name": "python",
   "nbconvert_exporter": "python",
   "pygments_lexer": "ipython3",
   "version": "3.12.4"
  }
 },
 "nbformat": 4,
 "nbformat_minor": 5
}
