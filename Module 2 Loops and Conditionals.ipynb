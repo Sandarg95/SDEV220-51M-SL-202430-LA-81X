{
 "cells": [
  {
   "cell_type": "markdown",
   "id": "3414241b-634c-4f99-afee-45a99eed5de4",
   "metadata": {},
   "source": [
    "# Module 2  Loops and Conditionals"
   ]
  },
  {
   "cell_type": "markdown",
   "id": "44a38089-7715-40ee-a490-37fc29516e4e",
   "metadata": {},
   "source": [
    "##  *Choose a number between 1 and 10 and assign it to the variable secret. Then, select another number between 1 and 10 and assign it to the variable guess. Next, write the conditional tests (if, else, and elif) to print the string 'too low' if guess is less than secret, 'too high' if greater than secret, and 'just right' if equal to secret.*"
   ]
  },
  {
   "cell_type": "code",
   "execution_count": 19,
   "id": "195c402d-c9de-4e0c-8f35-28eafcbcdccc",
   "metadata": {},
   "outputs": [
    {
     "name": "stdin",
     "output_type": "stream",
     "text": [
      "Please enter a secret number between 1 to 10. Enter 0 to end. 10\n"
     ]
    },
    {
     "name": "stdout",
     "output_type": "stream",
     "text": [
      "We saved your secret number successfully\n"
     ]
    },
    {
     "name": "stdin",
     "output_type": "stream",
     "text": [
      "Please enter a guess number between 1 to 10. Enter 'o' to end. 5\n"
     ]
    },
    {
     "name": "stdout",
     "output_type": "stream",
     "text": [
      "Too Low!\n"
     ]
    },
    {
     "name": "stdin",
     "output_type": "stream",
     "text": [
      "Please enter a guess number between 1 to 10. Enter 'o' to end. 7\n"
     ]
    },
    {
     "name": "stdout",
     "output_type": "stream",
     "text": [
      "Too Low!\n"
     ]
    },
    {
     "name": "stdin",
     "output_type": "stream",
     "text": [
      "Please enter a guess number between 1 to 10. Enter 'o' to end. 8\n"
     ]
    },
    {
     "name": "stdout",
     "output_type": "stream",
     "text": [
      "Too Low!\n"
     ]
    },
    {
     "name": "stdin",
     "output_type": "stream",
     "text": [
      "Please enter a guess number between 1 to 10. Enter 'o' to end. 9\n"
     ]
    },
    {
     "name": "stdout",
     "output_type": "stream",
     "text": [
      "Too Low!\n"
     ]
    },
    {
     "name": "stdin",
     "output_type": "stream",
     "text": [
      "Please enter a guess number between 1 to 10. Enter 'o' to end. 10\n"
     ]
    },
    {
     "name": "stdout",
     "output_type": "stream",
     "text": [
      "Just right!\n"
     ]
    }
   ],
   "source": [
    "control=True\n",
    "control_guess=True\n",
    "secret=0\n",
    "\n",
    "while control:\n",
    "    try:\n",
    "        secret=input(\"Please enter a secret number between 1 to 10. Enter 0 to end.\")\n",
    "        secret= float(secret)\n",
    "        if 1<=secret<=10:\n",
    "            print(\"We saved your secret number successfully\")\n",
    "            control=False\n",
    "        elif secret==0:\n",
    "            print(\"End of the game.\")\n",
    "            control=False\n",
    "        else:\n",
    "            print(\"Ensure your secret number is between 1 to 10\")        \n",
    "    except ValueError:\n",
    "        print(\"Invalid format. Please enter a number.\")\n",
    "\n",
    "if secret>0:\n",
    "    while control_guess:\n",
    "        try:\n",
    "            guess=input(\"Please enter a guess number between 1 to 10. Enter 'o' to end.\")\n",
    "            \n",
    "            if guess=='o':\n",
    "                print(\"End of the game.\")\n",
    "                control_guess=False\n",
    "                break\n",
    "                \n",
    "            guess= float(guess)\n",
    "            if 1<=guess<=10:\n",
    "                if guess<secret:\n",
    "                    print(\"Too Low!\")\n",
    "                elif guess>secret:\n",
    "                    print(\"Too High!\")\n",
    "                else:\n",
    "                    print(\"Just right!\")\n",
    "                    control_guess=False\n",
    "            \n",
    "            else:\n",
    "                print(\"Ensure your number is between 1 to 10\")\n",
    "        except ValueError:\n",
    "            print(\"Invalid format. Please enter a number.\")\n",
    "\n",
    "   \n",
    "            \n",
    "        \n",
    "      \n",
    "            \n"
   ]
  },
  {
   "cell_type": "markdown",
   "id": "770c69a8-7348-4425-94a3-b66bbd12b754",
   "metadata": {},
   "source": [
    "## Assign True or False to the variables small and green. Write some if/else statements to print which of these matches those choices: cherry, pea, watermelon, pumpkin."
   ]
  },
  {
   "cell_type": "code",
   "execution_count": 21,
   "id": "528cba8a-a192-429e-8f5b-07cee3d047e7",
   "metadata": {},
   "outputs": [
    {
     "name": "stdout",
     "output_type": "stream",
     "text": [
      "The item is a pea.\n"
     ]
    }
   ],
   "source": [
    "\n",
    "small = True   \n",
    "green = True   \n",
    "\n",
    "# Check conditions and print the matching item\n",
    "if small and green:\n",
    "    print(\"The item is a pea.\")\n",
    "elif small and not green:\n",
    "    print(\"The item is a cherry.\")\n",
    "elif not small and green:\n",
    "    print(\"The item is a watermelon.\")\n",
    "elif not small and not green:\n",
    "    print(\"The item is a pumpkin.\")\n"
   ]
  },
  {
   "cell_type": "markdown",
   "id": "675b59b1-ea27-4d4d-8325-64e7be4a81cf",
   "metadata": {},
   "source": [
    "## Use a for loop to print the values of the list [3, 2, 1, 0]."
   ]
  },
  {
   "cell_type": "code",
   "execution_count": 23,
   "id": "29b905ce-b1e3-4f1d-8fe6-160ac1c79bd8",
   "metadata": {},
   "outputs": [
    {
     "name": "stdout",
     "output_type": "stream",
     "text": [
      "3\n",
      "2\n",
      "1\n",
      "0\n"
     ]
    }
   ],
   "source": [
    "numbers = [3, 2, 1, 0]\n",
    "\n",
    "for num in numbers:\n",
    "    print(num)\n"
   ]
  },
  {
   "cell_type": "markdown",
   "id": "8a09c2de-b053-48dc-bf09-0703a2755afa",
   "metadata": {},
   "source": [
    "## Assign the value 7 to the variable guess_me, and the value 1 to the variable number. Write a while loop that compares number with guess_me. Print 'too low' if number is less than guess me. If number equals guess_me, print 'found it!' and then exit the loop. If number is greater than guess_me, print 'oops' and then exit the loop. Increment number at the end of the loop."
   ]
  },
  {
   "cell_type": "code",
   "execution_count": 24,
   "id": "e8d90230-7d12-481a-9c29-d5bf2d72a419",
   "metadata": {},
   "outputs": [
    {
     "name": "stdout",
     "output_type": "stream",
     "text": [
      "too low\n",
      "too low\n",
      "too low\n",
      "too low\n",
      "too low\n",
      "too low\n",
      "found it!\n"
     ]
    }
   ],
   "source": [
    "guess_me = 7\n",
    "number = 1\n",
    "\n",
    "while number <= guess_me:\n",
    "    if number < guess_me:\n",
    "        print(\"too low\")\n",
    "    elif number == guess_me:\n",
    "        print(\"found it!\")\n",
    "        break\n",
    "    number += 1\n",
    "else:\n",
    "    print(\"oops\")\n"
   ]
  },
  {
   "cell_type": "markdown",
   "id": "0f5cd58c-6cdb-4632-a0c8-c2746d4440d4",
   "metadata": {},
   "source": [
    " ## Assign the value 5 to the variable guess_me. Use a for loop to iterate a variable called number over range(10). If number is less than guess_me, print 'too low'. If it equals guess_me, print found it! and then break out of the for loop. If number is greater than guess_me, print 'oops' and then exit the loop."
   ]
  },
  {
   "cell_type": "code",
   "execution_count": 26,
   "id": "1cf60800-6e71-41af-a4ae-34ad7dec9c7e",
   "metadata": {},
   "outputs": [
    {
     "name": "stdout",
     "output_type": "stream",
     "text": [
      "too low\n",
      "too low\n",
      "too low\n",
      "too low\n",
      "too low\n",
      "found it!\n"
     ]
    }
   ],
   "source": [
    "guess_me = 5\n",
    "\n",
    "for number in range(10):\n",
    "    if number < guess_me:\n",
    "        print(\"too low\")\n",
    "    elif number == guess_me:\n",
    "        print(\"found it!\")\n",
    "        break\n",
    "    else:\n",
    "        print(\"oops\")\n",
    "        break\n"
   ]
  },
  {
   "cell_type": "code",
   "execution_count": null,
   "id": "4c282cd9-b565-4ae7-b2e4-581f782303c3",
   "metadata": {},
   "outputs": [],
   "source": []
  }
 ],
 "metadata": {
  "kernelspec": {
   "display_name": "Python 3 (ipykernel)",
   "language": "python",
   "name": "python3"
  },
  "language_info": {
   "codemirror_mode": {
    "name": "ipython",
    "version": 3
   },
   "file_extension": ".py",
   "mimetype": "text/x-python",
   "name": "python",
   "nbconvert_exporter": "python",
   "pygments_lexer": "ipython3",
   "version": "3.12.4"
  }
 },
 "nbformat": 4,
 "nbformat_minor": 5
}
