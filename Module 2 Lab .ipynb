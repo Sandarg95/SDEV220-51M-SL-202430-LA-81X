{
 "cells": [
  {
   "cell_type": "markdown",
   "id": "2efea27e-c528-46b5-ab74-1e9ff14ae90d",
   "metadata": {},
   "source": [
    "# Module 2 Lab \n",
    "## Write a Python app that will accept student names and GPAs and test if the student qualifies for either the Dean's List or the Honor Roll."
   ]
  },
  {
   "cell_type": "markdown",
   "id": "9cd136ac-eb5b-4344-89a1-9f59fa903777",
   "metadata": {},
   "source": [
    "*By Daniel Santana*"
   ]
  },
  {
   "cell_type": "code",
   "execution_count": 29,
   "id": "56768bf1-eb4f-4b0a-84b0-b86ae388517b",
   "metadata": {},
   "outputs": [
    {
     "name": "stdin",
     "output_type": "stream",
     "text": [
      "Please enter the student's last name:  Junior\n",
      "Please enter the student's first name:  Santana\n",
      "Please enter the student's GPA:  3.6\n"
     ]
    },
    {
     "name": "stdout",
     "output_type": "stream",
     "text": [
      "Santana Junior has made the Dean's List with a GPA of 3.60.\n"
     ]
    },
    {
     "name": "stdin",
     "output_type": "stream",
     "text": [
      "Please enter the student's last name:  Daniel\n",
      "Please enter the student's first name:  Santana\n",
      "Please enter the student's GPA:  3.4\n"
     ]
    },
    {
     "name": "stdout",
     "output_type": "stream",
     "text": [
      "Santana Daniel has made the Honor Roll with a GPA of 3.40.\n"
     ]
    },
    {
     "name": "stdin",
     "output_type": "stream",
     "text": [
      "Please enter the student's last name:  Josue\n",
      "Please enter the student's first name:  Royer\n",
      "Please enter the student's GPA:  2.4\n"
     ]
    },
    {
     "name": "stdout",
     "output_type": "stream",
     "text": [
      "Royer Josue did not qualify for either the Dean's List or the Honor Roll.\n"
     ]
    },
    {
     "name": "stdin",
     "output_type": "stream",
     "text": [
      "Please enter the student's last name:  ZZZ\n"
     ]
    },
    {
     "name": "stdout",
     "output_type": "stream",
     "text": [
      "Quitting processing.\n"
     ]
    }
   ],
   "source": [
    "# Start processing student records\n",
    "while True:\n",
    "    # Ask for the student's last name\n",
    "    last_name = input(\"Please enter the student's last name: \")\n",
    "    \n",
    "    # Quit processing if the last name entered is 'ZZZ'\n",
    "    if last_name == 'ZZZ':\n",
    "        print(\"Quitting processing.\")\n",
    "        break\n",
    "    \n",
    "    # Ask for the student's first name\n",
    "    first_name = input(\"Please enter the student's first name: \")\n",
    "\n",
    "    # Ask for the student's GPA and validate it\n",
    "    while True:\n",
    "        try:\n",
    "            gpa = float(input(\"Please enter the student's GPA: \"))\n",
    "            if 0 <= gpa <= 4:  # Check if GPA is within valid range\n",
    "                break\n",
    "            else:\n",
    "                print(\"GPA should be between 0 and 4. Please enter a valid GPA.\")\n",
    "        except ValueError:\n",
    "            print(\"Invalid format. Please enter a numeric GPA.\")\n",
    "\n",
    "    # Check if the student qualifies for the Dean's List\n",
    "    if gpa >= 3.5:\n",
    "        print(f\"{first_name} {last_name} has made the Dean's List with a GPA of {gpa:.2f}.\")\n",
    "\n",
    "    # Check if the student qualifies for the Honor Roll\n",
    "    elif gpa >= 3.25:\n",
    "        print(f\"{first_name} {last_name} has made the Honor Roll with a GPA of {gpa:.2f}.\")\n",
    "    \n",
    "    else:\n",
    "        print(f\"{first_name} {last_name} did not qualify for either the Dean's List or the Honor Roll.\")\n"
   ]
  },
  {
   "cell_type": "code",
   "execution_count": null,
   "id": "ee6ff955-24fe-4230-a1f1-b987c3a46286",
   "metadata": {},
   "outputs": [],
   "source": []
  }
 ],
 "metadata": {
  "kernelspec": {
   "display_name": "Python 3 (ipykernel)",
   "language": "python",
   "name": "python3"
  },
  "language_info": {
   "codemirror_mode": {
    "name": "ipython",
    "version": 3
   },
   "file_extension": ".py",
   "mimetype": "text/x-python",
   "name": "python",
   "nbconvert_exporter": "python",
   "pygments_lexer": "ipython3",
   "version": "3.12.4"
  }
 },
 "nbformat": 4,
 "nbformat_minor": 5
}
