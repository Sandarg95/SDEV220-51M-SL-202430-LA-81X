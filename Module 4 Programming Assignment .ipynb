{
 "cells": [
  {
   "cell_type": "markdown",
   "id": "47ddc5a5-58b8-4ffc-92ec-54888f48114d",
   "metadata": {},
   "source": [
    "## Create a file called zoo.py. In it, define a function called hours() that prints the string 'Open 9-5 daily'. Then, use the interactive interpreter to import the zoo module and call its hours() function."
   ]
  },
  {
   "cell_type": "code",
   "execution_count": 6,
   "id": "ea6c32a9-68f4-4fa4-95e7-732bed8a3eff",
   "metadata": {},
   "outputs": [
    {
     "name": "stdout",
     "output_type": "stream",
     "text": [
      "Open 9-5 daily\n"
     ]
    }
   ],
   "source": [
    "import Zoo\n",
    "Zoo.hours()\n"
   ]
  },
  {
   "cell_type": "markdown",
   "id": "87015ed4-9262-45ab-8b8a-5d90f671cd47",
   "metadata": {},
   "source": [
    "##  In the interactive interpreter, import the zoo module as menagerie and call its hours() function."
   ]
  },
  {
   "cell_type": "code",
   "execution_count": 9,
   "id": "17dfb104-c10c-4428-8fe4-07b763628c4f",
   "metadata": {},
   "outputs": [
    {
     "name": "stdout",
     "output_type": "stream",
     "text": [
      "Open 9-5 daily\n"
     ]
    }
   ],
   "source": [
    "import Zoo as menagerie\n",
    "menagerie.hours()\n"
   ]
  },
  {
   "cell_type": "markdown",
   "id": "3c45995e-4b92-4514-a19f-61e450a055d5",
   "metadata": {},
   "source": [
    "## Use the sqlite3 module to create a SQLite database called books.db and a table called books with these fields: title (text), author (text), and year (integer)."
   ]
  },
  {
   "cell_type": "code",
   "execution_count": 10,
   "id": "c20392ec-bab7-4a15-859c-fd355b0ea146",
   "metadata": {},
   "outputs": [],
   "source": [
    "import sqlite3\n",
    "\n",
    "\n",
    "conn = sqlite3.connect('books.db')\n",
    "\n",
    "cursor = conn.cursor()\n",
    "\n",
    "cursor.execute('''\n",
    "CREATE TABLE IF NOT EXISTS books (\n",
    "    title TEXT,\n",
    "    author TEXT,\n",
    "    year INTEGER\n",
    ")\n",
    "''')\n",
    "\n",
    "conn.commit()\n"
   ]
  },
  {
   "cell_type": "code",
   "execution_count": 12,
   "id": "414742b8-09ce-40f8-9f51-2379de318ff8",
   "metadata": {},
   "outputs": [],
   "source": [
    "# Insert two two books into the table\n",
    "cursor.execute(\"INSERT INTO books (title, author, year) VALUES ('OHHHH yesss!', 'Daniel Santana', 2030)\")\n",
    "cursor.execute(\"INSERT INTO books (title, author, year) VALUES ('1804', 'Daniel Santana', 2035)\")\n",
    "\n",
    "conn.commit()\n"
   ]
  },
  {
   "cell_type": "markdown",
   "id": "dfc868b3-badc-490a-b4f9-738ebf5d515e",
   "metadata": {},
   "source": [
    "## Use the sqlalchemy module to connect to the sqlite3 database books.db that you just made in exercise 16.4. Select and print the title column from the book table in alphabetical order."
   ]
  },
  {
   "cell_type": "code",
   "execution_count": 18,
   "id": "49788c81-7363-40d4-a7d3-97b8ade6be29",
   "metadata": {},
   "outputs": [
    {
     "name": "stdout",
     "output_type": "stream",
     "text": [
      "Collecting sqlalchemy\n",
      "  Downloading SQLAlchemy-2.0.38-cp312-cp312-win_amd64.whl.metadata (9.9 kB)\n",
      "Collecting greenlet!=0.4.17 (from sqlalchemy)\n",
      "  Downloading greenlet-3.1.1-cp312-cp312-win_amd64.whl.metadata (3.9 kB)\n",
      "Requirement already satisfied: typing-extensions>=4.6.0 in c:\\users\\dsantana15\\appdata\\local\\programs\\python\\python312\\lib\\site-packages (from sqlalchemy) (4.12.2)\n",
      "Downloading SQLAlchemy-2.0.38-cp312-cp312-win_amd64.whl (2.1 MB)\n",
      "   ---------------------------------------- 0.0/2.1 MB ? eta -:--:--\n",
      "   ---------------------------------------- 0.0/2.1 MB ? eta -:--:--\n",
      "    --------------------------------------- 0.0/2.1 MB 487.6 kB/s eta 0:00:05\n",
      "   -- ------------------------------------- 0.1/2.1 MB 901.1 kB/s eta 0:00:03\n",
      "   ---- ----------------------------------- 0.3/2.1 MB 1.6 MB/s eta 0:00:02\n",
      "   ---------- ----------------------------- 0.6/2.1 MB 2.5 MB/s eta 0:00:01\n",
      "   ---------------- ----------------------- 0.9/2.1 MB 3.2 MB/s eta 0:00:01\n",
      "   ---------------------- ----------------- 1.2/2.1 MB 3.7 MB/s eta 0:00:01\n",
      "   ------------------------------ --------- 1.6/2.1 MB 4.4 MB/s eta 0:00:01\n",
      "   ------------------------------------- -- 2.0/2.1 MB 4.8 MB/s eta 0:00:01\n",
      "   ---------------------------------------  2.1/2.1 MB 4.8 MB/s eta 0:00:01\n",
      "   ---------------------------------------  2.1/2.1 MB 4.8 MB/s eta 0:00:01\n",
      "   ---------------------------------------- 2.1/2.1 MB 3.9 MB/s eta 0:00:00\n",
      "Downloading greenlet-3.1.1-cp312-cp312-win_amd64.whl (299 kB)\n",
      "   ---------------------------------------- 0.0/299.7 kB ? eta -:--:--\n",
      "   --------------------------------------  297.0/299.7 kB 19.1 MB/s eta 0:00:01\n",
      "   --------------------------------------  297.0/299.7 kB 19.1 MB/s eta 0:00:01\n",
      "   ---------------------------------------- 299.7/299.7 kB 3.1 MB/s eta 0:00:00\n",
      "Installing collected packages: greenlet, sqlalchemy\n",
      "Successfully installed greenlet-3.1.1 sqlalchemy-2.0.38\n"
     ]
    },
    {
     "name": "stderr",
     "output_type": "stream",
     "text": [
      "\n",
      "[notice] A new release of pip is available: 24.0 -> 25.0.1\n",
      "[notice] To update, run: python.exe -m pip install --upgrade pip\n"
     ]
    }
   ],
   "source": [
    "!pip install sqlalchemy"
   ]
  },
  {
   "cell_type": "code",
   "execution_count": 22,
   "id": "07c21467-fa1a-48dd-9bc6-b201c9321548",
   "metadata": {},
   "outputs": [
    {
     "name": "stdout",
     "output_type": "stream",
     "text": [
      "1804\n",
      "OHHHH yesss!\n"
     ]
    },
    {
     "name": "stderr",
     "output_type": "stream",
     "text": [
      "C:\\Users\\dsantana15\\AppData\\Local\\Temp\\ipykernel_11200\\244934838.py:5: MovedIn20Warning: The ``declarative_base()`` function is now available as sqlalchemy.orm.declarative_base(). (deprecated since: 2.0) (Background on SQLAlchemy 2.0 at: https://sqlalche.me/e/b8d9)\n",
      "  Base = declarative_base()\n"
     ]
    }
   ],
   "source": [
    "from sqlalchemy import create_engine, Column, String, Integer\n",
    "from sqlalchemy.ext.declarative import declarative_base\n",
    "from sqlalchemy.orm import sessionmaker\n",
    "\n",
    "Base = declarative_base()\n",
    "\n",
    "class Book(Base):\n",
    "    __tablename__ = 'books'\n",
    "    \n",
    "    id = Column(Integer, primary_key=True) \n",
    "    title = Column(String)\n",
    "    author = Column(String)\n",
    "    year = Column(Integer)\n",
    "\n",
    "\n",
    "engine = create_engine('sqlite:///books.db')\n",
    "\n",
    "# Create the table in the database \n",
    "Base.metadata.create_all(engine)\n",
    "\n",
    "# Create a session to interact with the database\n",
    "Session = sessionmaker(bind=engine)\n",
    "session = Session()\n",
    "\n",
    "# Query the titles in alphabetical order\n",
    "books = session.query(Book.title).order_by(Book.title).all()\n",
    "\n",
    "for book in books:\n",
    "    print(book.title)\n",
    "\n",
    "\n",
    "session.close()\n"
   ]
  },
  {
   "cell_type": "code",
   "execution_count": null,
   "id": "63627b70-2c07-4cd4-a209-9bcad7ed413f",
   "metadata": {},
   "outputs": [],
   "source": []
  }
 ],
 "metadata": {
  "kernelspec": {
   "display_name": "Python 3 (ipykernel)",
   "language": "python",
   "name": "python3"
  },
  "language_info": {
   "codemirror_mode": {
    "name": "ipython",
    "version": 3
   },
   "file_extension": ".py",
   "mimetype": "text/x-python",
   "name": "python",
   "nbconvert_exporter": "python",
   "pygments_lexer": "ipython3",
   "version": "3.12.4"
  }
 },
 "nbformat": 4,
 "nbformat_minor": 5
}
